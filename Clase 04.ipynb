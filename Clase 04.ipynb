{
 "cells": [
  {
   "cell_type": "code",
   "execution_count": 3,
   "metadata": {},
   "outputs": [],
   "source": [
    "import numpy as np\n",
    "import matplotlib.pyplot as plt"
   ]
  },
  {
   "cell_type": "markdown",
   "metadata": {},
   "source": [
    "# Método de bisección\n",
    "\n",
    "Este método de busqueda por bisección es utilizado para encontrar raíces de una\n",
    "función continua de variable real. La única condición es que la función cambie de\n",
    "signo en el intervalo en que buscamos. La existencia de la raíz de la función está\n",
    "garantizada de acuerdo al teorema de Bolzano:\n",
    "\n",
    "> <b>Teorema de Bolzano </b>: \n",
    "Si $f : [a, b] \\to \\mathbb{R}$, es una función continua en $[a, b]$ y $f(a)f(b) < 0$, entonces\n",
    "existe $x_0 \\in  [a, b]$ tal que $f(x_0) = 0$.\n",
    "\n",
    "El método consiste en bisecar el intervalo $[a, b]$, estudiar los signos de $f$ en los\n",
    "extremos de los nuevos intervalos de manera que podamos afirmar la existencia de\n",
    "una raíz en un intervalo más pequeño como consecuencia del teorema de Bolzano.\n",
    "\n",
    "## Algoritmo\n",
    "\n",
    "Datos de entrada: $a, b,$ función, tolerancia.\n",
    "\n",
    "calcular $x_0 =\\dfrac{a+b}{2}$\n",
    "\n",
    "Para $i = 0,1,2, ...$ \n",
    "\n",
    "* Si $f(a)f(x_i) < 0$, entonces $b = x_i$\n",
    "* Si $f(a)f(x_i) > 0$, entonces $a = x_i$\n",
    "* Si $f(a)f(x_i) = 0$, entonces $x_{i+1} = x_{i}$\n",
    "\n",
    "Hasta que $|x_{i+1}-x_{i}|< tolerancia$"
   ]
  },
  {
   "cell_type": "markdown",
   "metadata": {},
   "source": [
    "## Ejemplo 1:\n",
    "\n",
    "* a) Elabore una función en Python que permita encontrar una aproximación de una raíz de una función $f:[a,b] \\to \\mathbb{R}$ usando el método de bisección, considerando como datos de entrada $a,b$ y la tolerancia.\n",
    "\n",
    "* b) Utilice la función anterior y el teorema de Bolzano para encontrar las cuatro raíces de $f(x)=10x^3-2x^2+1-e^{2x}$. Ayuda: las raíces se encuentran en el intervalo $[-1,3]$."
   ]
  },
  {
   "cell_type": "code",
   "execution_count": 16,
   "metadata": {},
   "outputs": [],
   "source": [
    "def biseccion2(a, b, tol, f):\n",
    "    \"\"\"\n",
    "    Esta función tiene como entrada el intervalo inferior a, el intervalo inferior b y la tolerancia.\n",
    "    Tiene como salida la aproximación numérica.\n",
    "    \"\"\"\n",
    "    while np.abs(a - b) >= tol:\n",
    "        xi = (a + b) / 2 # Punto medio\n",
    "        # Teorema de bolsano entre a y el punto medio, y el punto medio y b.\n",
    "        producto = f(a) * f(xi)\n",
    "        if producto < 0:\n",
    "            b = xi\n",
    "        elif producto > 0:\n",
    "            a = xi\n",
    "        else:\n",
    "             \n",
    "    return xi"
   ]
  },
  {
   "cell_type": "code",
   "execution_count": 21,
   "metadata": {},
   "outputs": [],
   "source": [
    "def biseccion(func, a, b, tol=1e-6, max_iter=100):\n",
    "    \"\"\"\n",
    "    Encuentra la raíz de la función 'func' en el intervalo [a, b] utilizando el método de bisección.\n",
    "\n",
    "    Parámetros:\n",
    "    - func: La función para la cual encontrar la raíz.\n",
    "    - a, b: Los extremos del intervalo [a, b].\n",
    "    - tol: Tolerancia, el algoritmo se detendrá cuando el tamaño del intervalo sea menor que 'tol'.\n",
    "    - max_iter: Número máximo de iteraciones.\n",
    "\n",
    "    Devuelve:\n",
    "    - root: La aproximación de la raíz.\n",
    "    - iterations: El número de iteraciones realizadas.\n",
    "    \"\"\"\n",
    "\n",
    "    # Verificar si la raíz está en el intervalo [a, b]\n",
    "    if np.sign(func(float(a))) == np.sign(func(float(b))):\n",
    "        raise ValueError(\"La función tiene el mismo signo en los extremos del intervalo. No se puede aplicar bisección.\")\n",
    "\n",
    "    # Convertir a y b a tipo float\n",
    "    a = float(a)\n",
    "    b = float(b)\n",
    "\n",
    "    # Inicializar variables\n",
    "    iteration = 0\n",
    "\n",
    "    while (b - a) / 2 > tol and iteration < max_iter:\n",
    "        c = (a + b) / 2  # Punto medio del intervalo\n",
    "\n",
    "        # Verificar si c es una raíz o si se puede acortar el intervalo\n",
    "        if func(float(c)) == 0:\n",
    "            root = c\n",
    "            break\n",
    "        elif np.sign(func(float(c))) == np.sign(func(float(a))):\n",
    "            a = c\n",
    "        else:\n",
    "            b = c\n",
    "\n",
    "        iteration += 1\n",
    "\n",
    "    root = (a + b) / 2  # La aproximación final de la raíz\n",
    "\n",
    "    return root, iteration\n"
   ]
  },
  {
   "cell_type": "code",
   "execution_count": 22,
   "metadata": {},
   "outputs": [
    {
     "data": {
      "text/plain": [
       "(2.4673566818237305, 19)"
      ]
     },
     "execution_count": 22,
     "metadata": {},
     "output_type": "execute_result"
    }
   ],
   "source": [
    "def f(x): \n",
    "    return 10 * x ** 3 - 2 * x ** 2 + 1 - np.exp(2 * x)\n",
    "\n",
    "biseccion(f, 2, 3)"
   ]
  },
  {
   "cell_type": "code",
   "execution_count": 23,
   "metadata": {},
   "outputs": [
    {
     "data": {
      "text/plain": [
       "(2.4673566818237305, 19)"
      ]
     },
     "execution_count": 23,
     "metadata": {},
     "output_type": "execute_result"
    }
   ],
   "source": [
    "biseccion(f, 2, 3)"
   ]
  },
  {
   "cell_type": "markdown",
   "metadata": {},
   "source": [
    "## Ejemplo 2:\n",
    "\n",
    "La ecuación $\\ln(2x) = \\dfrac{x}{2}$ tiene dos soluciones. Utilice el método de la bisección con un error máximo de $10^{-8}$ para estimar las soluciones de la ecuación. Justifique su razonamiento para aplicar el método:\n",
    "\n",
    "   * Formulación de la función a utilizar.\n",
    "   * Elección de intervalo.\n",
    "   * Elección de la tolerancia."
   ]
  },
  {
   "cell_type": "code",
   "execution_count": 24,
   "metadata": {},
   "outputs": [
    {
     "data": {
      "text/plain": [
       "(0.7148065567016602, 19)"
      ]
     },
     "execution_count": 24,
     "metadata": {},
     "output_type": "execute_result"
    }
   ],
   "source": [
    "def h(x):\n",
    "    return 2*x-np.exp(x/2)\n",
    "biseccion(h,0,1)"
   ]
  },
  {
   "cell_type": "code",
   "execution_count": 25,
   "metadata": {},
   "outputs": [
    {
     "data": {
      "text/plain": [
       "(4.306584723293781, 26)"
      ]
     },
     "execution_count": 25,
     "metadata": {},
     "output_type": "execute_result"
    }
   ],
   "source": [
    "biseccion(h,4,5,1e-8)"
   ]
  },
  {
   "cell_type": "markdown",
   "metadata": {},
   "source": [
    "## Ejemplo 3*:\n",
    "\n",
    "Encuentre la solución(es) a la ecuación:\n",
    "$$\\dfrac{1}{1-x}=e^x$$\n",
    "en el intervalo $[-0.5,\\, 1]$ mediante el método de bisección, si es posible. En caso contrario, justifique."
   ]
  },
  {
   "cell_type": "code",
   "execution_count": 28,
   "metadata": {},
   "outputs": [
    {
     "ename": "ValueError",
     "evalue": "La función tiene el mismo signo en los extremos del intervalo. No se puede aplicar bisección.",
     "output_type": "error",
     "traceback": [
      "\u001b[0;31m---------------------------------------------------------------------------\u001b[0m",
      "\u001b[0;31mValueError\u001b[0m                                Traceback (most recent call last)",
      "Cell \u001b[0;32mIn[28], line 4\u001b[0m\n\u001b[1;32m      1\u001b[0m \u001b[38;5;28;01mdef\u001b[39;00m \u001b[38;5;21mj\u001b[39m(x):\n\u001b[1;32m      2\u001b[0m     \u001b[38;5;28;01mreturn\u001b[39;00m \u001b[38;5;241m1\u001b[39m \u001b[38;5;241m/\u001b[39m (\u001b[38;5;241m1\u001b[39m \u001b[38;5;241m-\u001b[39m x) \u001b[38;5;241m-\u001b[39m np\u001b[38;5;241m.\u001b[39mexp(x)\n\u001b[0;32m----> 4\u001b[0m \u001b[43mbiseccion\u001b[49m\u001b[43m(\u001b[49m\u001b[43mj\u001b[49m\u001b[43m,\u001b[49m\u001b[43m \u001b[49m\u001b[38;5;241;43m-\u001b[39;49m\u001b[38;5;241;43m0.5\u001b[39;49m\u001b[43m,\u001b[49m\u001b[43m \u001b[49m\u001b[38;5;241;43m0.8\u001b[39;49m\u001b[43m)\u001b[49m\n",
      "Cell \u001b[0;32mIn[21], line 18\u001b[0m, in \u001b[0;36mbiseccion\u001b[0;34m(func, a, b, tol, max_iter)\u001b[0m\n\u001b[1;32m     16\u001b[0m \u001b[38;5;66;03m# Verificar si la raíz está en el intervalo [a, b]\u001b[39;00m\n\u001b[1;32m     17\u001b[0m \u001b[38;5;28;01mif\u001b[39;00m np\u001b[38;5;241m.\u001b[39msign(func(\u001b[38;5;28mfloat\u001b[39m(a))) \u001b[38;5;241m==\u001b[39m np\u001b[38;5;241m.\u001b[39msign(func(\u001b[38;5;28mfloat\u001b[39m(b))):\n\u001b[0;32m---> 18\u001b[0m     \u001b[38;5;28;01mraise\u001b[39;00m \u001b[38;5;167;01mValueError\u001b[39;00m(\u001b[38;5;124m\"\u001b[39m\u001b[38;5;124mLa función tiene el mismo signo en los extremos del intervalo. No se puede aplicar bisección.\u001b[39m\u001b[38;5;124m\"\u001b[39m)\n\u001b[1;32m     20\u001b[0m \u001b[38;5;66;03m# Convertir a y b a tipo float\u001b[39;00m\n\u001b[1;32m     21\u001b[0m a \u001b[38;5;241m=\u001b[39m \u001b[38;5;28mfloat\u001b[39m(a)\n",
      "\u001b[0;31mValueError\u001b[0m: La función tiene el mismo signo en los extremos del intervalo. No se puede aplicar bisección."
     ]
    }
   ],
   "source": [
    "def j(x):\n",
    "    return 1 / (1 - x) - np.exp(x)\n",
    "\n",
    "biseccion(j, -0.5, 0.8)"
   ]
  },
  {
   "cell_type": "markdown",
   "metadata": {},
   "source": [
    "## Ejemplo 4:\n",
    "\n",
    "Encontrar utilizando el método de bisección una aproximación de $\\sqrt[3]{7}$."
   ]
  },
  {
   "cell_type": "code",
   "execution_count": null,
   "metadata": {},
   "outputs": [],
   "source": []
  },
  {
   "cell_type": "markdown",
   "metadata": {},
   "source": [
    "## Ejemplo 5:\n",
    "\n",
    "Una canaleta  de largo $L$ tiene por sección tranversal forma de semicircunferencia de radio $r$ (ambos medidos en cm), como muestra la figura a contianuación:\n",
    "\n",
    "<table><tr>\n",
    "<td> <img src=\"C1.png\" alt=\"Drawing\" style=\"width: 250px;\"/> </td>\n",
    "<td> <img src=\"C2.png\" alt=\"Drawing\" style=\"width: 250px;\"/> </td>\n",
    "</tr></table>\n",
    "\n",
    "Cuando se llena de agua hasta una distancia $h$ de su parte superior, el volumen $V$ de agua es\n",
    "\n",
    "$$V=L\\left[ \\frac{1}{2}\\pi r^2 - r^2\\arcsin\\left(\\frac{h}{r} \\right) - h\\sqrt{r^2-h^2} \\right]$$\n",
    "\n",
    "Suponga que el $L=300 [m]$, $r=30 [cm]$ y el volumen de agua es $V=216 [cm^3]$. Encuentre una aproximación de la altura del agua desde la base de la canaleta.\n"
   ]
  },
  {
   "cell_type": "code",
   "execution_count": null,
   "metadata": {},
   "outputs": [],
   "source": []
  },
  {
   "cell_type": "markdown",
   "metadata": {},
   "source": [
    "# Newtwon Raphson\n",
    "\n",
    "Este método es uno de los más populares para encontrar los ceros de una función, pero\n",
    "requiere del conocimiento de su derivada. La regla principal del algoritmo consiste\n",
    "en que, dado un punto $x_k$ cercano a la raíz de $f$, se determina la recta tangente a $f$\n",
    "en $(x_k, f(x_k))$: <br>\n",
    "\n",
    "$$y = f(x_k) + f'(x_k)(x - x_k)$$\n",
    "\n",
    "Luego, se define la iteración siguiente $x_{k+1}$ como el punto de intersección entre esa\n",
    "recta y el eje $x$, es decir, $x_{k+1}$ se obtiene al despejar\n",
    "\n",
    "$$0 = f(x_k) + f(x_k)(x_{k+1} - x_k)$$\n",
    "\n",
    "esto es\n",
    "$$ x_{k+1} = x_k - \\dfrac{f(x_k)}{f'(x_k)}  $$ \n",
    "\n",
    "## Algoritmo\n",
    "\n",
    "Datos de entrada: $x_0, f , tolerancia$\n",
    "\n",
    "Para $k = 0, 1, 2, ...$\n",
    "\n",
    "* calcular $x_{k+1} = x_k - \\dfrac{f(x_k)}{f'(x_k)}$\n",
    "\n",
    "Hasta que $| x_{k+1} - x_k | < tolerancia$"
   ]
  },
  {
   "cell_type": "markdown",
   "metadata": {},
   "source": [
    "## Ejemplo 6:\n",
    "\n",
    "Elabore una función en Python que permita encontrar una aproximación de una raíz de una función $f:[a,b] \\to \\mathbb{R}$ usando el método de Newton-Raphson, considerando como datos de entrada un valor cercano a la raíz $x0$, la función en cuestión $f$, su derivada $df$ y la tolerancia $t$."
   ]
  },
  {
   "cell_type": "code",
   "execution_count": 29,
   "metadata": {},
   "outputs": [],
   "source": [
    "def newton_raphson_approximation(x0, func, df, tol=1e-6):\n",
    "    \"\"\"\n",
    "    Encuentra una aproximación de la raíz de la función 'func' utilizando el método de Newton-Raphson.\n",
    "\n",
    "    Parámetros:\n",
    "    - x0: Aproximación inicial cercana a la raíz.\n",
    "    - func: La función para la cual encontrar la raíz.\n",
    "    - df: La derivada de 'func'.\n",
    "    - tol: Tolerancia, el algoritmo se detendrá cuando la diferencia entre iteraciones consecutivas sea menor que 'tol'.\n",
    "\n",
    "    Devuelve:\n",
    "    - root_approximation: Aproximación de la raíz.\n",
    "    \"\"\"\n",
    "\n",
    "    x = x0\n",
    "    iteration = 0\n",
    "\n",
    "    while True:\n",
    "        x_new = x - func(x) / df(x)\n",
    "\n",
    "        # Verificar la convergencia\n",
    "        if abs(x_new - x) < tol:\n",
    "            root_approximation = x_new\n",
    "            break\n",
    "\n",
    "        x = x_new\n",
    "        iteration += 1\n",
    "\n",
    "    return root_approximation"
   ]
  },
  {
   "cell_type": "code",
   "execution_count": 30,
   "metadata": {},
   "outputs": [
    {
     "name": "stdout",
     "output_type": "stream",
     "text": [
      "Aproximación de la raíz: 2.0\n"
     ]
    }
   ],
   "source": [
    "# Ejemplo de uso:\n",
    "# Definir la función y su derivada, por ejemplo, f(x) = x^2 - 4\n",
    "def func(x):\n",
    "    return x**2 - 4\n",
    "\n",
    "def func_prime(x):\n",
    "    return 2*x\n",
    "\n",
    "# Aproximación inicial\n",
    "x0 = 2.0\n",
    "\n",
    "# Calcular la aproximación de la raíz utilizando el método de Newton-Raphson\n",
    "root_approximation = newton_raphson_approximation(x0, func, func_prime)\n",
    "\n",
    "print(f\"Aproximación de la raíz: {root_approximation}\")"
   ]
  },
  {
   "cell_type": "markdown",
   "metadata": {},
   "source": [
    "## Ejercicio:\n",
    "\n",
    "Encuentre aproximaciones de los ejemplos previos, esta vez utilizando el método de Newton-Raphson, justificando su elección de $x_0$."
   ]
  },
  {
   "cell_type": "code",
   "execution_count": null,
   "metadata": {},
   "outputs": [],
   "source": []
  }
 ],
 "metadata": {
  "kernelspec": {
   "display_name": "Python 3 (ipykernel)",
   "language": "python",
   "name": "python3"
  },
  "language_info": {
   "codemirror_mode": {
    "name": "ipython",
    "version": 3
   },
   "file_extension": ".py",
   "mimetype": "text/x-python",
   "name": "python",
   "nbconvert_exporter": "python",
   "pygments_lexer": "ipython3",
   "version": "3.10.12"
  }
 },
 "nbformat": 4,
 "nbformat_minor": 4
}
