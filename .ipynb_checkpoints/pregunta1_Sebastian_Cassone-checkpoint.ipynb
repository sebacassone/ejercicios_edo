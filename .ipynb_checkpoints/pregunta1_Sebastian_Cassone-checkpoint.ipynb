{
 "cells": [
  {
   "cell_type": "code",
   "execution_count": 6,
   "id": "967cec1e-2c62-47ce-ad3e-44e9d6e0e301",
   "metadata": {},
   "outputs": [],
   "source": [
    "# Se declaran librerias\n",
    "from matplotlib import pyplot as plt\n",
    "import numpy as np"
   ]
  },
  {
   "cell_type": "code",
   "execution_count": null,
   "id": "b16c708f-a606-48be-9a8b-7ff04ec448d1",
   "metadata": {},
   "outputs": [],
   "source": [
    "# Pregunta 1"
   ]
  },
  {
   "cell_type": "code",
   "execution_count": 21,
   "id": "347f6043-045e-490c-bc25-43a1ca32eadc",
   "metadata": {},
   "outputs": [
    {
     "data": {
      "text/plain": [
       "1.12115132474396"
      ]
     },
     "execution_count": 21,
     "metadata": {},
     "output_type": "execute_result"
    }
   ],
   "source": [
    "# 1.a\n",
    "\n",
    "def Euler(f,x0,xn,y0,h):\n",
    "    n = round((xn - x0) / h)\n",
    "    X = np.linspace(x0, xn, n + 1)\n",
    "    Y = np.linspace(x0, xn, n + 1)\n",
    "    Y[0] = y0\n",
    "    for i in range(n):\n",
    "        Y[i+1] = Y[i] + h*f(X[i], Y[i])\n",
    "    ret = dict()\n",
    "    ret[\"x\"] = X\n",
    "    ret[\"y\"] = Y\n",
    "    return ret\n",
    "\n",
    "def f(x,y): return (np.exp(-x**2)*y)/np.sin(y)\n",
    "\n",
    "Aprox = Euler(f,0,0.1,1,0.0001)\n",
    "Y = Aprox[\"y\"]\n",
    "valor_aproximado_problema = Aprox[\"y\"][-1]\n",
    "valor_aproximado_problema"
   ]
  },
  {
   "cell_type": "code",
   "execution_count": 23,
   "id": "54340ca4-f13a-4067-bacf-8799093fc487",
   "metadata": {},
   "outputs": [
    {
     "name": "stdout",
     "output_type": "stream",
     "text": [
      "2.7285193591039745 %\n"
     ]
    }
   ],
   "source": [
    "# b\n",
    "valor_entregado_problema = 1.1526002455776254\n",
    "# Luego de esto se toma el valor que se da del problema y se resta con el valor aproximado.\n",
    "error = (valor_entregado_problema - valor_aproximado_problema) / valor_entregado_problema * 100\n",
    "print(error, \"%\") # Error calculado de la aproximación."
   ]
  }
 ],
 "metadata": {
  "kernelspec": {
   "display_name": "Python 3 (ipykernel)",
   "language": "python",
   "name": "python3"
  },
  "language_info": {
   "codemirror_mode": {
    "name": "ipython",
    "version": 3
   },
   "file_extension": ".py",
   "mimetype": "text/x-python",
   "name": "python",
   "nbconvert_exporter": "python",
   "pygments_lexer": "ipython3",
   "version": "3.10.12"
  }
 },
 "nbformat": 4,
 "nbformat_minor": 5
}
