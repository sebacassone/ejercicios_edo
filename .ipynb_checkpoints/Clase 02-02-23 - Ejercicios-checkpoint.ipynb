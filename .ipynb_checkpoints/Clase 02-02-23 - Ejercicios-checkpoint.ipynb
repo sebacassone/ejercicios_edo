{
 "cells": [
  {
   "cell_type": "code",
   "execution_count": 3,
   "metadata": {},
   "outputs": [],
   "source": [
    "import matplotlib.pyplot as plt\n",
    "import sympy as sp\n",
    "import numpy as np"
   ]
  },
  {
   "cell_type": "markdown",
   "metadata": {},
   "source": [
    "# Ejercicio 1\n",
    "\n",
    "Usando comando `dsolve` resuelva las siguientes EDOs:\n",
    "\n",
    "* $ y' =  \\left( \\dfrac{y}{x} \\right)  + \\ln \\left( \\dfrac{y}{x} \\right)$\n",
    "* $(y-\\tan y \\cos^2 x)dx + \\left( \\sin x \\cos x - x \\dfrac{\\cos^2 x}{\\cos^2 y} \\right) dy = 0$\n",
    "* $\\sin x - x \\cos x - 3x^2 (y-x)^2+3x^2(y-x)^2 y' = 0 \\quad ; \\quad y(1)=\\sqrt{3}$"
   ]
  },
  {
   "cell_type": "code",
   "execution_count": null,
   "metadata": {},
   "outputs": [],
   "source": []
  },
  {
   "cell_type": "markdown",
   "metadata": {},
   "source": [
    "# Ejercicio 2\n",
    "\n",
    "Con ayuda de `sympy` pero sin usar `dsolve` resuelva  nuevamente los ejercicios del problema anterior."
   ]
  },
  {
   "cell_type": "code",
   "execution_count": null,
   "metadata": {},
   "outputs": [],
   "source": []
  },
  {
   "cell_type": "markdown",
   "metadata": {},
   "source": [
    "# Ejercicio 3\n",
    "\n",
    "Dada la EDO\n",
    "$$ \\frac{dy}{dx} = \\frac{(y^2-1)\\sqrt{x}}{2y \\ln(y^2-1)} $$\n",
    "Determine una región $D\\subset \\mathbb{R}^2$ donde se pueda asegurar la existencia y unicidad de la solución. Encuentre todas las soluciones que satisfacen $y(0)=1$."
   ]
  },
  {
   "cell_type": "code",
   "execution_count": null,
   "metadata": {},
   "outputs": [],
   "source": []
  },
  {
   "cell_type": "markdown",
   "metadata": {},
   "source": [
    "# Ejercicio 4\n",
    "\n",
    "Muestre que \n",
    "$$ \\mu(x,y) = \\frac{1}{\\sqrt{x^2+y^2}} $$\n",
    "es un factor integrante de la EDO\n",
    "$$ dx + \\left( \\frac{\\sqrt{x^2+y^2}}{y} -\\frac{x}{y} \\right)dy=0 $$\n",
    "Luego resuelva la EDO sin usar `dsolve`"
   ]
  },
  {
   "cell_type": "code",
   "execution_count": null,
   "metadata": {},
   "outputs": [],
   "source": []
  },
  {
   "cell_type": "markdown",
   "metadata": {},
   "source": [
    "# Ejercicio 5\n",
    "\n",
    "Considere la EDO\n",
    "\n",
    "$$y'=\\tan^2(y)-\\csc^2(y)-3$$\n",
    "\n",
    "* Encuentre todas las soluciones estacionarias de la EDO autónoma\n",
    "* Construya un campo de direcciones para la EDO en la región\n",
    "$$D=[-2\\pi , 2\\pi]\\times[-2\\pi , 2\\pi]$$\n",
    "grafique las soluciones estacionarias sobre el campo y clasifique los puntos en atractor, repulsor o nodo.\n",
    "* Sin resolver la EDO, justifique el valor de $\\displaystyle\\lim_{x \\to \\infty} y(x)$ para una solución qye pase por $y(\\pi)=\\pi$."
   ]
  },
  {
   "cell_type": "code",
   "execution_count": null,
   "metadata": {},
   "outputs": [],
   "source": []
  }
 ],
 "metadata": {
  "kernelspec": {
   "display_name": "Python 3 (ipykernel)",
   "language": "python",
   "name": "python3"
  },
  "language_info": {
   "codemirror_mode": {
    "name": "ipython",
    "version": 3
   },
   "file_extension": ".py",
   "mimetype": "text/x-python",
   "name": "python",
   "nbconvert_exporter": "python",
   "pygments_lexer": "ipython3",
   "version": "3.11.4"
  }
 },
 "nbformat": 4,
 "nbformat_minor": 4
}
