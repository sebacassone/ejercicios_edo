{
 "cells": [
  {
   "cell_type": "code",
   "execution_count": 11,
   "id": "f696fd3d-0329-43e4-baeb-b23c203f341d",
   "metadata": {},
   "outputs": [
    {
     "data": {
      "text/latex": [
       "$\\displaystyle \\frac{\\left(128 x^{3} e^{4 x} - 288 x^{2} e^{4 x} + 420 x e^{4 x} + 4215 e^{4 x} + 1644 e^{2 x} \\sin{\\left(2 x \\right)} + 3540 e^{2 x} \\cos{\\left(2 x \\right)} + 1461\\right) e^{- 2 x} \\theta\\left(x\\right)}{3072}$"
      ],
      "text/plain": [
       "(128*x**3*exp(4*x) - 288*x**2*exp(4*x) + 420*x*exp(4*x) + 4215*exp(4*x) + 1644*exp(2*x)*sin(2*x) + 3540*exp(2*x)*cos(2*x) + 1461)*exp(-2*x)*Heaviside(x)/3072"
      ]
     },
     "execution_count": 11,
     "metadata": {},
     "output_type": "execute_result"
    }
   ],
   "source": []
  },
  {
   "cell_type": "code",
   "execution_count": 12,
   "id": "0abf4c9c-5fc5-4f67-9ed1-dbee86225cfa",
   "metadata": {},
   "outputs": [
    {
     "data": {
      "text/latex": [
       "$\\displaystyle \\frac{\\left(128 x^{3} e^{4 x} - 288 x^{2} e^{4 x} + 420 x e^{4 x} + 4215 e^{4 x} + 1644 e^{2 x} \\sin{\\left(2 x \\right)} + 3540 e^{2 x} \\cos{\\left(2 x \\right)} + 1461\\right) e^{- 2 x} \\theta\\left(x\\right)}{3072}$"
      ],
      "text/plain": [
       "(128*x**3*exp(4*x) - 288*x**2*exp(4*x) + 420*x*exp(4*x) + 4215*exp(4*x) + 1644*exp(2*x)*sin(2*x) + 3540*exp(2*x)*cos(2*x) + 1461)*exp(-2*x)*Heaviside(x)/3072"
      ]
     },
     "execution_count": 12,
     "metadata": {},
     "output_type": "execute_result"
    }
   ],
   "source": [
    "import sympy as sp\n",
    "import numpy as np\n",
    "\n",
    "x, y = sp.symbols(\"x y\", real = True)\n",
    "s = sp.Symbol(\"s\")\n",
    "izquierda = sp.laplace_transform(x**2 * sp.exp(2 * x), x , s, noconds = True)\n",
    "suma = (izquierda + s ** 3 + s ** 2 + s + 1) / (s**4 - 16)\n",
    "y = sp.inverse_laplace_transform(suma, s, x, noconds = True)\n",
    "y1 = sp.simplify(y)\n",
    "y1"
   ]
  },
  {
   "cell_type": "code",
   "execution_count": 16,
   "id": "adde7651-ed5b-4652-9b96-e486836ed2f8",
   "metadata": {},
   "outputs": [
    {
     "data": {
      "text/latex": [
       "$\\displaystyle \\frac{5}{s} - \\frac{5 e^{- s}}{s} + \\frac{5 e^{- 2 s}}{s} - \\frac{5 e^{- 3 s}}{s}$"
      ],
      "text/plain": [
       "5/s - 5*exp(-s)/s + 5*exp(-2*s)/s - 5*exp(-3*s)/s"
      ]
     },
     "execution_count": 16,
     "metadata": {},
     "output_type": "execute_result"
    }
   ],
   "source": [
    "x = sp.Symbol(\"x\")\n",
    "q = 5 * (sp.Heaviside(x) - sp.Heaviside(x-1)) + 5 * (sp.Heaviside(x-2) - sp.Heaviside(x-3))\n",
    "transformada_q = sp.laplace_transform(q, x, s, noconds= True)\n",
    "transformada_q"
   ]
  },
  {
   "cell_type": "code",
   "execution_count": 19,
   "id": "682562e2-6490-48aa-b3c2-a72c564e3c96",
   "metadata": {},
   "outputs": [
    {
     "data": {
      "text/latex": [
       "$\\displaystyle \\frac{2 k \\left(t_{0} + t_{1} x\\right) \\theta\\left(x\\right) - 5 x^{2} \\theta\\left(x\\right) + 5 \\left(x - 3\\right)^{2} \\theta\\left(x - 3\\right) - 5 \\left(x - 2\\right)^{2} \\theta\\left(x - 2\\right) + 5 \\left(x - 1\\right)^{2} \\theta\\left(x - 1\\right)}{2 k}$"
      ],
      "text/plain": [
       "(2*k*(t0 + t1*x)*Heaviside(x) - 5*x**2*Heaviside(x) + 5*(x - 3)**2*Heaviside(x - 3) - 5*(x - 2)**2*Heaviside(x - 2) + 5*(x - 1)**2*Heaviside(x - 1))/(2*k)"
      ]
     },
     "execution_count": 19,
     "metadata": {},
     "output_type": "execute_result"
    }
   ],
   "source": [
    "t0, t1, k = sp.symbols(\"t0 t1 k\")\n",
    "suma = (((-transformada_q) / k) + t1 + t0 * s) / s**2\n",
    "t = sp.inverse_laplace_transform(suma, s, x, noconds = True)\n",
    "t20 = sp.simplify(t)\n",
    "t20"
   ]
  },
  {
   "cell_type": "code",
   "execution_count": null,
   "id": "d6afb6a5-88a5-4449-8127-d95b43271927",
   "metadata": {},
   "outputs": [],
   "source": []
  }
 ],
 "metadata": {
  "kernelspec": {
   "display_name": "Python 3 (ipykernel)",
   "language": "python",
   "name": "python3"
  },
  "language_info": {
   "codemirror_mode": {
    "name": "ipython",
    "version": 3
   },
   "file_extension": ".py",
   "mimetype": "text/x-python",
   "name": "python",
   "nbconvert_exporter": "python",
   "pygments_lexer": "ipython3",
   "version": "3.10.12"
  }
 },
 "nbformat": 4,
 "nbformat_minor": 5
}
