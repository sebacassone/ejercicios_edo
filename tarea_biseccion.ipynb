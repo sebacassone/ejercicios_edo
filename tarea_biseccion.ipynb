{
 "cells": [
  {
   "cell_type": "markdown",
   "id": "63e33077-cb78-4d34-8792-5e6b8287b40e",
   "metadata": {},
   "source": [
    "El programa en cuestión, tiene como propósito general usar el método de la Bisección, que tiene por objetivo encontrar las raices reales de una función f que será equivalente a resolver una ecuación f(x) = 0.\n",
    "Este programa recibirá como entrada la función que se quiere encontrar las raices, el intervalo [a, b], la tolerancia que se requiere, y el máximo de iteraciones."
   ]
  },
  {
   "cell_type": "code",
   "execution_count": 20,
   "id": "01b8e544-876a-471f-8334-6519dd7b4bc1",
   "metadata": {},
   "outputs": [
    {
     "name": "stdout",
     "output_type": "stream",
     "text": [
      "Aproximación de la raíz: 2.763936996459961\n"
     ]
    }
   ],
   "source": [
    "# Bloque de funciones\n",
    "def biseccion(f, a, b, tolerancia, max_iteraciones):\n",
    "    \"\"\"\n",
    "    Función principal que se encarga de la bisección. Tiene toda la logica de este.\n",
    "    Tiene como entrada la función f que se quiere aproximar su raiz. Tiene a siendo\n",
    "    un número entero o flotante, b siendo un número entero o flotante, tolerancia siendo\n",
    "    el error mínimo que se quiere de la aproximación, y el número máximo de interaciones.\n",
    "    Tiene como salida la raíz aproximada.\n",
    "    \"\"\"\n",
    "    # Se verifica el teorema de bolzano para asegurarnos que haya una raíz entre a y b.\n",
    "    if f(a) * f(b) >= 0:\n",
    "        return \"Error\"\n",
    "\n",
    "    # Comienza las iteraciones para aproximar la raíz.\n",
    "    i = 0\n",
    "    while (b - a) / 2.0 > tolerancia and i < max_iteraciones:\n",
    "        c = (a + b) / 2.0\n",
    "        if f(c) == 0.0:\n",
    "            return c\n",
    "        elif f(a) * f(c) < 0:\n",
    "            b = c\n",
    "        else:\n",
    "            a = c\n",
    "        i += 1\n",
    "\n",
    "    # Se devuelve el resultado al programa\n",
    "    return (a + b) / 2.0\n",
    "\n",
    "\n",
    "# Función de ejemplo, podría ser cualquier función. En este caso f(x) = (x - 5)**2 - 5\n",
    "def f(x):\n",
    "    return (x - 5)**2 - 5\n",
    "\n",
    "\n",
    "# Bloque principal\n",
    "# Se declaran y se inicializan variables\n",
    "a = 0\n",
    "b = 6\n",
    "tolerancia = 1e-5\n",
    "max_iteraciones = 10000000000000000000\n",
    "\n",
    "# Se llama a la función para realizar la bisección y se imprime el resultado\n",
    "raiz = biseccion(f, a, b, tolerancia, max_iteraciones)\n",
    "print(\"Aproximación de la raíz:\", raiz)"
   ]
  },
  {
   "cell_type": "code",
   "execution_count": null,
   "id": "79d7ff9d-04d6-4c4a-bb94-a3a870b6d637",
   "metadata": {},
   "outputs": [],
   "source": []
  }
 ],
 "metadata": {
  "kernelspec": {
   "display_name": "Python 3 (ipykernel)",
   "language": "python",
   "name": "python3"
  },
  "language_info": {
   "codemirror_mode": {
    "name": "ipython",
    "version": 3
   },
   "file_extension": ".py",
   "mimetype": "text/x-python",
   "name": "python",
   "nbconvert_exporter": "python",
   "pygments_lexer": "ipython3",
   "version": "3.10.12"
  }
 },
 "nbformat": 4,
 "nbformat_minor": 5
}
