{
 "cells": [
  {
   "cell_type": "code",
   "execution_count": 23,
   "id": "89f7c8b6",
   "metadata": {},
   "outputs": [],
   "source": [
    "from matplotlib import pyplot as plt\n",
    "import numpy as np"
   ]
  },
  {
   "cell_type": "markdown",
   "id": "32e7a9ad",
   "metadata": {},
   "source": [
    "## Métodos numéricos\n",
    "\n",
    "Cuando trabajamos con métodos numéricos en la resolución de ecuaciones diferenciales, el objetivo es encontrar un conjunto de valores que se aproximen una solución particular de la ecuación diferencial propuesta.\n",
    "\n",
    "Existen diferentes algoritmos que permiten implementar estos métodos numéricos, algunos más certeros que otros, y por tanto es posible (en ocasiones) estimar el error y decidir qué método emplear en cada etapa de la busqueda de una buena aproximación de la solución.\n"
   ]
  },
  {
   "cell_type": "markdown",
   "id": "8a940c68",
   "metadata": {},
   "source": [
    "## Método de Euler\n",
    "\n",
    "Se utiliza para encontrar una aproximación de la solución al problema de valor inicial\n",
    "\n",
    "$$ y'=f(x,y) \\quad ; \\quad y(x_0)=y_0 $$\n",
    "\n",
    "el algoritmo asociado al método de Euler está dado por:\n",
    "\n",
    "Para $i=0,1, ... , n-1$ realizar <br>\n",
    "*    $ x_i = x_0+ih $ <br>\n",
    "*    $y_{i+1}= y_i +h f(x_i , y_i) $ <br>\n",
    "    \n",
    "Fin"
   ]
  },
  {
   "cell_type": "markdown",
   "id": "6b40993d",
   "metadata": {},
   "source": [
    "## Ejemplo 1\n",
    "\n",
    "Considere el problema de valores iniciales \n",
    "$$ y'=\\dfrac{y}{x}+x\\mathrm{e}^{-\\frac{y}{x}} \\quad ; \\quad y(1)=2,$$\n",
    "* a) Utilice el método de Euler para encontrar una aproximación de $y(11)$ para el problema de valores iniciales utilizando $h=1$.\n",
    "* b) Encuentre la solución del PVI realizando la sustitución $y=zx$.\n",
    "* c) En un mismo gráfico trace la solución aproximada y la solución explícita al PVI.\n",
    "* c) Calcule el error absoluto al problema.\n",
    "* d) Con los datos recabados concluya si es una buena aproximación."
   ]
  },
  {
   "cell_type": "code",
   "execution_count": 24,
   "id": "c68bef9b",
   "metadata": {},
   "outputs": [],
   "source": [
    "def Euler(f,x0,xn,y0,n):\n",
    "    X=np.linspace(x0,xn,n+1)\n",
    "    Y=np.linspace(x0,xn,n+1)\n",
    "    Y[0]=y0\n",
    "    h=(xn-x0)/n\n",
    "    for i in range(n):\n",
    "        Y[i+1]=Y[i]+h*f(X[i],Y[i])\n",
    "    ret=dict()\n",
    "    ret[\"x\"]=X\n",
    "    ret[\"y\"]=Y\n",
    "    return ret"
   ]
  },
  {
   "cell_type": "code",
   "execution_count": 33,
   "id": "14fc5743",
   "metadata": {},
   "outputs": [],
   "source": [
    "def RK22(f,x0,xn,y0,n):\n",
    "    X=np.linspace(x0,xn,n+1)\n",
    "    Y=np.linspace(x0,xn,n+1)\n",
    "    Y[0]=y0\n",
    "    h=(xn-x0)/n\n",
    "    for i in range(n):\n",
    "        K1=f(X[i],Y[i])\n",
    "        K2=f(X[i]+h,Y[i]+h*K1)\n",
    "        Y[i+1]=Y[i]+(h/2)*(K1+K2)\n",
    "    ret=dict()\n",
    "    ret[\"x\"]=X\n",
    "    ret[\"y\"]=Y\n",
    "    return ret"
   ]
  },
  {
   "cell_type": "code",
   "execution_count": 40,
   "id": "3777bd61",
   "metadata": {},
   "outputs": [],
   "source": [
    "def RK44(f,x0,xn,y0,n):\n",
    "    X=np.linspace(x0,xn,n+1)\n",
    "    Y=np.linspace(x0,xn,n+1)\n",
    "    Y[0]=y0\n",
    "    h=(xn-x0)/n\n",
    "    for i in range(n):\n",
    "        K1=f(X[i],Y[i])\n",
    "        K2=f(X[i]+h/2,Y[i]+(h/2)*K1)\n",
    "        K3=f(X[i]+h/2,Y[i]+(h/2)*K2)\n",
    "        K4=f(X[i]+h,Y[i]+h*K3)\n",
    "        Y[i+1]=Y[i]+(h/6)*(K1+2*K2+2*K3+K4)\n",
    "    ret=dict()\n",
    "    ret[\"x\"]=X\n",
    "    ret[\"y\"]=Y\n",
    "    return ret"
   ]
  },
  {
   "cell_type": "code",
   "execution_count": 41,
   "id": "f627f623",
   "metadata": {},
   "outputs": [
    {
     "data": {
      "text/plain": [
       "31.411806661538932"
      ]
     },
     "execution_count": 41,
     "metadata": {},
     "output_type": "execute_result"
    }
   ],
   "source": [
    "def f(x,y): return (y/x)+x*np.exp(-y/x)\n",
    "\n",
    "Aprox=RK44(f,1,11,2,10)\n",
    "X=Aprox[\"x\"]\n",
    "Y=Aprox[\"y\"]\n",
    "Aprox2=RK22(f,1,11,2,10)\n",
    "X1=Aprox2[\"x\"]\n",
    "Y1=Aprox2[\"y\"]\n",
    "Y[-1]\n",
    "#plt.plot(X,Y,\"-\")"
   ]
  },
  {
   "cell_type": "code",
   "execution_count": 42,
   "id": "2a8d7a36",
   "metadata": {},
   "outputs": [
    {
     "data": {
      "text/plain": [
       "[<matplotlib.lines.Line2D at 0x7f3336c001c0>]"
      ]
     },
     "execution_count": 42,
     "metadata": {},
     "output_type": "execute_result"
    },
    {
     "data": {
      "image/png": "[encoded data removed]",
      "text/plain": [
       "<Figure size 640x480 with 1 Axes>"
      ]
     },
     "metadata": {},
     "output_type": "display_data"
    }
   ],
   "source": [
    "def g(x): return np.log(x+np.exp(2)-1)*x\n",
    "x=np.linspace(1,11,100)\n",
    "plt.plot(X,Y,color=\"blue\")\n",
    "plt.plot(x,g(x),color=\"red\")\n",
    "plt.plot(X1,Y1,color=\"green\")"
   ]
  },
  {
   "cell_type": "markdown",
   "id": "dab8cba6",
   "metadata": {},
   "source": [
    "## Ejemplo 2\n",
    "\n",
    "* a) Defina una función en Python que permita encontrar una aproximación de $y(x_n)$ para el problema de valores iniciales general\n",
    "\n",
    "$$ y'(x)=f(x,y) \\quad , \\quad y(x_0)=y_0$$\n",
    "\n",
    "dados los datos de entrada $f(x,y), x_0, x_n, y_0, n$ (o $h$ en su defecto)\n",
    "\n",
    "* b) Utilice la función anterior para encontrar una aproximación de $y(11)$ al PVI del ejemplo 1"
   ]
  },
  {
   "cell_type": "code",
   "execution_count": null,
   "id": "ddae4b2e",
   "metadata": {},
   "outputs": [],
   "source": []
  },
  {
   "cell_type": "markdown",
   "id": "013baf04",
   "metadata": {},
   "source": [
    "## Ejemplo 3\n",
    "\n",
    "La EDO autónoma y de Riccati\n",
    "\n",
    "$$m \\frac{dy}{dt} = mg − ky^2$$\n",
    "\n",
    "modela la velocidad $y(t)$ de un cuerpo de masa $m$ (en kg) que está cayendo bajo la influencia de la gravedad. Debido a que el término $–ky^2$ representa la resistencia del aire, la velocidad de un cuerpo que cae de una gran altura no aumenta sin límite conforme pasa el tiempo $t$.\n",
    "\n",
    "Suponga que el cuerpo tiene masa 2 $[kg]$ y $k = 2$ donde $g = 9, 8 \\left[ \\frac{m}{s^2} \\right]$ y que en el instante $t=0$ el cuerpo tiene velociadad $10 \\left[ \\frac{m}{s} \\right]$.\n",
    "\n",
    "* a) Usando el método de Euler, determine la velocidad del cuerpo al cabo de $10 [s]$, usando:\n",
    "    * $h=0.1$\n",
    "    * $n=300$\n",
    "\n",
    "* b) Verifique que $y(t) = \\dfrac{\\sqrt{g} \\sqrt{m} }{\\sqrt{k}} \\tanh\\left[ \\sqrt{g} \\sqrt{k}\\left( C \\sqrt{m}+ \\dfrac{t}{\\sqrt{m}} \\right) \\right]$ es la solución general de la EDO.\n",
    "* c) Calcule la solución particular que satisface la condición inicial.\n",
    "* d) Calcule el error cometido en cada uno de las aproximaciones de a). Justifique cuál es una mejor aproximación."
   ]
  },
  {
   "cell_type": "code",
   "execution_count": null,
   "id": "0cff9eb4",
   "metadata": {},
   "outputs": [],
   "source": []
  },
  {
   "cell_type": "markdown",
   "id": "0fd41e2e",
   "metadata": {},
   "source": [
    "# Tarea \n",
    "\n",
    "Para el problema \n",
    "$$ y'=f(x,y) \\quad ; \\quad y(x_0)=y_0 $$\n",
    "\n",
    "el algoritmo asociado al método RK4 está dado por:\n",
    "    \n",
    "Para $i=0,1, ... , n-1$ realizar <br>\n",
    "\n",
    "*    $ x_i = x_0+ih $ <br>\n",
    "\n",
    "*    $ K_1 = f(x_i,y_i) $ <br>\n",
    "\n",
    "*    $ K_2 = f\\left( x_i + \\dfrac{h}{2} , y_i + \\dfrac{h}{2} K_1 \\right) $ <br>\n",
    "\n",
    "*    $ K_3 = f\\left( x_i + \\dfrac{h}{2} , y_i + \\dfrac{h}{2} K_2 \\right) $ <br>\n",
    "\n",
    "*    $ K_4 = f\\left( x_i + h , y_i + h K_3 \\right) $ <br>\n",
    "\n",
    "*    $y_{i+1} = y_i + \\dfrac{h}{6} \\left[ K_1 + 2K_2 + 2K_3 + K_4 \\right] $ <br>\n",
    "\n",
    "Fin\n",
    "\n",
    "* a) Defina una función en Python que permita encontrar una aproximación de $y(x_n)$ para el problema de valores iniciales general\n",
    "\n",
    "$$ y'(x)=f(x,y) \\quad , \\quad y(x_0)=y_0$$\n",
    "\n",
    "dados los datos de entrada $f(x,y), x_0, x_n, y_0, n$ (o $h$ en su defecto)\n",
    "\n",
    "* b) Utilice la función anterior para encontrar una aproximación a elección del Ejemplo 1 y 3."
   ]
  },
  {
   "cell_type": "code",
   "execution_count": null,
   "id": "7308a25d",
   "metadata": {},
   "outputs": [],
   "source": []
  }
 ],
 "metadata": {
  "kernelspec": {
   "display_name": "Python 3 (ipykernel)",
   "language": "python",
   "name": "python3"
  },
  "language_info": {
   "codemirror_mode": {
    "name": "ipython",
    "version": 3
   },
   "file_extension": ".py",
   "mimetype": "text/x-python",
   "name": "python",
   "nbconvert_exporter": "python",
   "pygments_lexer": "ipython3",
   "version": "3.10.12"
  }
 },
 "nbformat": 4,
 "nbformat_minor": 5
}
